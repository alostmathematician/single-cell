{
 "cells": [
  {
   "cell_type": "code",
   "execution_count": 21,
   "metadata": {},
   "outputs": [],
   "source": [
    "import scanpy as sc\n",
    "import scvi\n",
    "from pathlib import Path\n",
    "import matplotlib.pyplot as plt"
   ]
  },
  {
   "cell_type": "code",
   "execution_count": 4,
   "metadata": {},
   "outputs": [],
   "source": [
    "DATA = Path(\"../data\")\n",
    "MODEL = Path(\"../model\")"
   ]
  },
  {
   "cell_type": "code",
   "execution_count": null,
   "metadata": {},
   "outputs": [],
   "source": [
    "vae = scvi.model.SCVI.load(MODEL / 'trained2.model')\n",
    "adata = vae.adata"
   ]
  },
  {
   "cell_type": "code",
   "execution_count": 7,
   "metadata": {},
   "outputs": [],
   "source": [
    "adata_dnt = adata[\n",
    "    (adata.obs.cell_type == \"aDNT\") | \n",
    "    (adata.obs.cell_type == \"nDNT\")]"
   ]
  },
  {
   "cell_type": "code",
   "execution_count": null,
   "metadata": {},
   "outputs": [],
   "source": [
    "adata_dnt = adata_dnt.copy()\n",
    "scvi.model.SCVI.setup_anndata(\n",
    "    adata_dnt,\n",
    "    layer='counts',\n",
    "    batch_key='batch',\n",
    "    continuous_covariate_keys=['pct_counts_mt'])\n",
    "vae_dnt = scvi.model.SCVI(adata_dnt)\n",
    "vae_dnt.train()"
   ]
  },
  {
   "cell_type": "code",
   "execution_count": null,
   "metadata": {},
   "outputs": [],
   "source": [
    "scvi.model.SCVI.save(vae_dnt,MODEL / \"vae_dnt\",save_anndata=True,overwrite=True)"
   ]
  },
  {
   "cell_type": "code",
   "execution_count": null,
   "metadata": {},
   "outputs": [],
   "source": [
    "vae_dnt = scvi.model.SCVI.load(MODEL / 'vae_dnt')"
   ]
  },
  {
   "cell_type": "code",
   "execution_count": 9,
   "metadata": {},
   "outputs": [],
   "source": [
    "adata_dnt = vae_dnt.adata"
   ]
  },
  {
   "cell_type": "code",
   "execution_count": 10,
   "metadata": {},
   "outputs": [],
   "source": [
    "adata_dnt.obsm['X_scVi'] = vae_dnt.get_latent_representation()\n",
    "adata_dnt.obsm['X_norm'] = vae_dnt.get_normalized_expression()"
   ]
  },
  {
   "cell_type": "code",
   "execution_count": null,
   "metadata": {},
   "outputs": [],
   "source": [
    "sc.pp.neighbors(adata_dnt,use_rep='X_scVi')"
   ]
  },
  {
   "cell_type": "code",
   "execution_count": 12,
   "metadata": {},
   "outputs": [],
   "source": [
    "sc.tl.leiden(adata_dnt,resolution=0.1)\n",
    "sc.tl.umap(adata_dnt)"
   ]
  },
  {
   "cell_type": "code",
   "execution_count": null,
   "metadata": {},
   "outputs": [],
   "source": [
    "sc.pl.umap(adata_dnt, color=['cell_type'])"
   ]
  },
  {
   "cell_type": "code",
   "execution_count": null,
   "metadata": {},
   "outputs": [],
   "source": [
    "de_dnt=vae_dnt.differential_expression(\n",
    "    groupby='cell_type',\n",
    "    group1=[\"aDNT\"],\n",
    "    group2=\"nDNT\",\n",
    "    batch_correction = True,\n",
    "    batchid1 = ['b1','b2'])"
   ]
  },
  {
   "cell_type": "code",
   "execution_count": 15,
   "metadata": {},
   "outputs": [],
   "source": [
    "df_markers = de_dnt[\n",
    "    (de_dnt['proba_de'] > 0.95) &\n",
    "    (de_dnt['bayes_factor'] > 1) &\n",
    "    (de_dnt['lfc_mean'] < 0)\n",
    "    ]"
   ]
  },
  {
   "cell_type": "code",
   "execution_count": 16,
   "metadata": {},
   "outputs": [],
   "source": [
    "markers = {}\n",
    "markers[\"nDNT\"] = df_markers.index.tolist()[:10]"
   ]
  },
  {
   "cell_type": "code",
   "execution_count": null,
   "metadata": {},
   "outputs": [],
   "source": [
    "de_dnt2=vae_dnt.differential_expression(\n",
    "    groupby='cell_type',\n",
    "    group1=[\"nDNT\"],\n",
    "    group2=\"aDNT\",\n",
    "    batch_correction = True,\n",
    "    batchid1 = ['b1','b2'])"
   ]
  },
  {
   "cell_type": "code",
   "execution_count": 18,
   "metadata": {},
   "outputs": [],
   "source": [
    "df_markers2 = de_dnt2[\n",
    "    (de_dnt2['proba_de'] > 0.95) &\n",
    "    (de_dnt2['bayes_factor'] > 1) &\n",
    "    (de_dnt2['lfc_mean'] < 0)\n",
    "    ]"
   ]
  },
  {
   "cell_type": "code",
   "execution_count": 19,
   "metadata": {},
   "outputs": [],
   "source": [
    "markers[\"aDNT\"] = df_markers2.index.tolist()[:10]"
   ]
  },
  {
   "cell_type": "code",
   "execution_count": 20,
   "metadata": {},
   "outputs": [],
   "source": [
    "def to_curly(gene: str) -> str:\n",
    "    curly_gene = (\"$\" + gene + \"$\")\n",
    "    return curly_gene\n",
    "\n",
    "symbols = []\n",
    "for name in markers:\n",
    "    symbols.extend(list(map(to_curly,markers[name])))"
   ]
  },
  {
   "cell_type": "code",
   "execution_count": null,
   "metadata": {},
   "outputs": [],
   "source": [
    "ax = sc.pl.dotplot(\n",
    "    adata_dnt,\n",
    "    markers,\n",
    "    groupby='cell_type',\n",
    "    use_raw=True,\n",
    "    standard_scale='var',\n",
    "    show=False)\n",
    "\n",
    "ax['mainplot_ax'].set_xticklabels(symbols)\n",
    "plt.show()"
   ]
  },
  {
   "cell_type": "code",
   "execution_count": 23,
   "metadata": {},
   "outputs": [],
   "source": [
    "adata_ndnt = adata[adata.obs['cell_type'] == 'nDNT']"
   ]
  },
  {
   "cell_type": "code",
   "execution_count": null,
   "metadata": {},
   "outputs": [],
   "source": [
    "adata_ndnt = adata_ndnt.copy()\n",
    "scvi.model.SCVI.setup_anndata(\n",
    "    adata_ndnt,\n",
    "    layer='counts',\n",
    "    batch_key='batch',\n",
    "    continuous_covariate_keys=['pct_counts_mt']\n",
    "    )\n",
    "vae_ndnt = scvi.model.SCVI(adata_ndnt)\n",
    "vae_ndnt.train()"
   ]
  },
  {
   "cell_type": "code",
   "execution_count": 49,
   "metadata": {},
   "outputs": [],
   "source": [
    "adata_ndnt.obsm['X_scVi'] = vae_ndnt.get_latent_representation()\n",
    "adata_ndnt.obsm['X_norm'] = vae_ndnt.get_normalized_expression()"
   ]
  },
  {
   "cell_type": "code",
   "execution_count": 61,
   "metadata": {},
   "outputs": [],
   "source": [
    "scvi.model.SCVI.save(vae_ndnt,MODEL / 'vae_ndnt',overwrite=True,save_anndata=True)"
   ]
  },
  {
   "cell_type": "code",
   "execution_count": null,
   "metadata": {},
   "outputs": [],
   "source": [
    "vae_ndnt = scvi.model.SCVI.load(MODEL / 'vae_ndnt')\n",
    "adata_ndnt = vae_ndnt.adata"
   ]
  },
  {
   "cell_type": "code",
   "execution_count": 25,
   "metadata": {},
   "outputs": [],
   "source": [
    "adata_ndnt.obsm['X_scVi'] = vae_ndnt.get_latent_representation()\n",
    "adata_ndnt.obsm['X_norm'] = vae_ndnt.get_normalized_expression()"
   ]
  },
  {
   "cell_type": "code",
   "execution_count": 26,
   "metadata": {},
   "outputs": [],
   "source": [
    "sc.pp.neighbors(adata_ndnt, use_rep='X_scVi')"
   ]
  },
  {
   "cell_type": "code",
   "execution_count": 27,
   "metadata": {},
   "outputs": [],
   "source": [
    "sc.tl.leiden(adata_ndnt,resolution=0.1)\n",
    "sc.tl.umap(adata_ndnt,min_dist=0.3)"
   ]
  },
  {
   "cell_type": "code",
   "execution_count": null,
   "metadata": {},
   "outputs": [],
   "source": [
    "sc.pl.umap(adata_ndnt, color=['leiden'])"
   ]
  },
  {
   "cell_type": "code",
   "execution_count": null,
   "metadata": {},
   "outputs": [],
   "source": [
    "de_ndnt = vae_ndnt.differential_expression(\n",
    "    groupby='leiden'\n",
    ")"
   ]
  },
  {
   "cell_type": "code",
   "execution_count": 31,
   "metadata": {},
   "outputs": [],
   "source": [
    "ndnt_markers = de_ndnt[\n",
    "    (de_ndnt['proba_de'] > 0.95) &\n",
    "    (de_ndnt['bayes_factor'] > 1) &\n",
    "    (de_ndnt['lfc_mean'] > 1)\n",
    "]"
   ]
  },
  {
   "cell_type": "code",
   "execution_count": 33,
   "metadata": {},
   "outputs": [],
   "source": [
    "markers_group = ndnt_markers.groupby('comparison')"
   ]
  },
  {
   "cell_type": "code",
   "execution_count": 34,
   "metadata": {},
   "outputs": [],
   "source": [
    "markers2 = {}\n",
    "for name in markers_group.groups.keys():\n",
    "    markers2[name] = markers_group.get_group(name).index.tolist()[:10]"
   ]
  },
  {
   "cell_type": "code",
   "execution_count": 35,
   "metadata": {},
   "outputs": [],
   "source": [
    "symbols = []\n",
    "for name in markers2:\n",
    "    symbols.extend(list(map(to_curly,markers2[name])))"
   ]
  },
  {
   "cell_type": "code",
   "execution_count": null,
   "metadata": {},
   "outputs": [],
   "source": [
    "ax = sc.pl.dotplot(\n",
    "    adata_ndnt,\n",
    "    markers2,\n",
    "    groupby='leiden',\n",
    "    use_raw=True,\n",
    "    standard_scale='var',\n",
    "    show=False\n",
    "    )\n",
    "ax['mainplot_ax'].set_xticklabels(symbols)\n",
    "plt.show()"
   ]
  },
  {
   "cell_type": "code",
   "execution_count": 37,
   "metadata": {},
   "outputs": [],
   "source": [
    "adata_adnt = adata[adata.obs['cell_type'] == 'aDNT']"
   ]
  },
  {
   "cell_type": "code",
   "execution_count": null,
   "metadata": {},
   "outputs": [],
   "source": [
    "adata_adnt = adata_adnt.copy()\n",
    "scvi.model.SCVI.setup_anndata(\n",
    "    adata_adnt,\n",
    "    layer='counts',\n",
    "    batch_key='batch',\n",
    "    continuous_covariate_keys=['pct_counts_mt']\n",
    ")\n",
    "vae_adnt = scvi.model.SCVI(adata_adnt)\n",
    "vae_adnt.train()"
   ]
  },
  {
   "cell_type": "code",
   "execution_count": 69,
   "metadata": {},
   "outputs": [],
   "source": [
    "scvi.model.SCVI.save(vae_adnt,MODEL / 'vae_adnt',overwrite=True,save_anndata=True)"
   ]
  },
  {
   "cell_type": "code",
   "execution_count": null,
   "metadata": {},
   "outputs": [],
   "source": [
    "vae_adnt = scvi.model.SCVI.load(MODEL / 'vae_adnt')\n",
    "adata_adnt = vae_adnt.adata"
   ]
  },
  {
   "cell_type": "code",
   "execution_count": 39,
   "metadata": {},
   "outputs": [],
   "source": [
    "adata_adnt.obsm['X_scVi'] = vae_adnt.get_latent_representation()\n",
    "adata_adnt.obsm['X_normalized'] = vae_adnt.get_normalized_expression()"
   ]
  },
  {
   "cell_type": "code",
   "execution_count": 40,
   "metadata": {},
   "outputs": [],
   "source": [
    "sc.pp.neighbors(adata_adnt, use_rep='X_scVi')"
   ]
  },
  {
   "cell_type": "code",
   "execution_count": 41,
   "metadata": {},
   "outputs": [],
   "source": [
    "sc.tl.leiden(adata_adnt, resolution=0.1)\n",
    "sc.tl.umap(adata_adnt)"
   ]
  },
  {
   "cell_type": "code",
   "execution_count": null,
   "metadata": {},
   "outputs": [],
   "source": [
    "sc.pl.umap(adata_adnt, color=['leiden'])\n",
    "plt.show()"
   ]
  },
  {
   "cell_type": "code",
   "execution_count": null,
   "metadata": {},
   "outputs": [],
   "source": [
    "de_adnt = vae_adnt.differential_expression(groupby='leiden')"
   ]
  },
  {
   "cell_type": "code",
   "execution_count": 45,
   "metadata": {},
   "outputs": [],
   "source": [
    "de_adnt = de_adnt[\n",
    "    (de_adnt['proba_de'] > 0.95) &\n",
    "    (de_adnt['bayes_factor'] > 1) &\n",
    "    (de_adnt['lfc_mean'] > 1)\n",
    "]"
   ]
  },
  {
   "cell_type": "code",
   "execution_count": 46,
   "metadata": {},
   "outputs": [],
   "source": [
    "adnt_group = de_adnt.groupby('comparison')"
   ]
  },
  {
   "cell_type": "code",
   "execution_count": 47,
   "metadata": {},
   "outputs": [],
   "source": [
    "adnt_markers = {name: adnt_group.get_group(name).index.tolist()[:10] for name in adnt_group.groups.keys()}"
   ]
  },
  {
   "cell_type": "code",
   "execution_count": 49,
   "metadata": {},
   "outputs": [],
   "source": [
    "symbols = []\n",
    "for name in adnt_markers:\n",
    "    symbols.extend(list(map(to_curly,adnt_markers[name])))"
   ]
  },
  {
   "cell_type": "code",
   "execution_count": null,
   "metadata": {},
   "outputs": [],
   "source": [
    "ax = sc.pl.dotplot(\n",
    "    adata_adnt,\n",
    "    adnt_markers,\n",
    "    groupby='leiden',\n",
    "    use_raw=True,\n",
    "    standard_scale='var',\n",
    "    show=False)\n",
    "\n",
    "ax['mainplot_ax'].set_xticklabels(symbols)\n",
    "plt.show()"
   ]
  }
 ],
 "metadata": {
  "kernelspec": {
   "display_name": "scvi-env",
   "language": "python",
   "name": "python3"
  },
  "language_info": {
   "codemirror_mode": {
    "name": "ipython",
    "version": 3
   },
   "file_extension": ".py",
   "mimetype": "text/x-python",
   "name": "python",
   "nbconvert_exporter": "python",
   "pygments_lexer": "ipython3",
   "version": "3.9.17"
  },
  "orig_nbformat": 4
 },
 "nbformat": 4,
 "nbformat_minor": 2
}
