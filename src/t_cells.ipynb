{
 "cells": [
  {
   "cell_type": "code",
   "execution_count": 22,
   "metadata": {},
   "outputs": [],
   "source": [
    "import scanpy as sc\n",
    "import scvi\n",
    "from pathlib import Path\n",
    "import matplotlib.pyplot as plt"
   ]
  },
  {
   "cell_type": "code",
   "execution_count": 23,
   "metadata": {},
   "outputs": [],
   "source": [
    "DATA = Path(\"../data\")\n",
    "MODEL = Path(\"../model\")"
   ]
  },
  {
   "cell_type": "code",
   "execution_count": null,
   "metadata": {},
   "outputs": [],
   "source": [
    "vae = scvi.model.SCVI.load(MODEL / 'trained2.model')\n",
    "adata = vae.adata"
   ]
  },
  {
   "cell_type": "code",
   "execution_count": 25,
   "metadata": {},
   "outputs": [],
   "source": [
    "adata.obsm['X_scVI'] = vae.get_latent_representation()\n",
    "adata.obsm['X_normalized'] = vae.get_normalized_expression()"
   ]
  },
  {
   "cell_type": "code",
   "execution_count": null,
   "metadata": {},
   "outputs": [],
   "source": [
    "de_cd4 = vae.differential_expression(\n",
    "    adata,\n",
    "    groupby='cell_type',\n",
    "    group1='CD4',\n",
    "    group2='aDNT',\n",
    "    batch_correction = True,\n",
    "    batchid1 = ['b1','b2'])\n",
    "de_cd4 = de_cd4[(de_cd4['lfc_mean'] < 0) & (de_cd4['bayes_factor'] > 0)]"
   ]
  },
  {
   "cell_type": "code",
   "execution_count": null,
   "metadata": {},
   "outputs": [],
   "source": [
    "de_cd8 = vae.differential_expression(\n",
    "    adata,\n",
    "    groupby='cell_type',\n",
    "    group1='CD8',\n",
    "    group2='aDNT',\n",
    "    batch_correction = True,\n",
    "    batchid1 = ['b1','b2'])\n",
    "de_cd8 = de_cd8[(de_cd8['lfc_mean'] < 0) & (de_cd8['bayes_factor'] > 0)]"
   ]
  },
  {
   "cell_type": "code",
   "execution_count": null,
   "metadata": {},
   "outputs": [],
   "source": [
    "de_nk = vae.differential_expression(\n",
    "    adata,\n",
    "    groupby='cell_type',\n",
    "    group1='NK',\n",
    "    group2='aDNT',\n",
    "    batch_correction = True,\n",
    "    batchid1 = ['b1','b2'])\n",
    "de_nk = de_nk[(de_nk['lfc_mean'] < 0) & (de_nk['bayes_factor'] > 0)]"
   ]
  },
  {
   "cell_type": "code",
   "execution_count": 29,
   "metadata": {},
   "outputs": [],
   "source": [
    "deg_adnt = {}\n",
    "deg_adnt['CD4'] = de_cd4[:10].index.tolist()\n",
    "deg_adnt['CD8'] = de_cd8[:10].index.tolist()\n",
    "deg_adnt['NK'] = de_nk[:10].index.tolist()"
   ]
  },
  {
   "cell_type": "code",
   "execution_count": 30,
   "metadata": {},
   "outputs": [],
   "source": [
    "adata_sub = adata[\n",
    "    (adata.obs['cell_type'] == \"aDNT\") |\n",
    "    (adata.obs['cell_type'] == 'CD4') | \n",
    "    (adata.obs['cell_type'] == 'CD8') |\n",
    "    (adata.obs['cell_type'] == 'NK')\n",
    "    ]"
   ]
  },
  {
   "cell_type": "code",
   "execution_count": 31,
   "metadata": {},
   "outputs": [],
   "source": [
    "def to_curly(gene: str) -> str:\n",
    "    curly_gene = (\"$\" + gene + \"$\")\n",
    "    return curly_gene\n",
    "\n",
    "symbols = []\n",
    "for name in deg_adnt:\n",
    "    symbols.extend(list(map(to_curly,deg_adnt[name])))"
   ]
  },
  {
   "cell_type": "code",
   "execution_count": null,
   "metadata": {},
   "outputs": [],
   "source": [
    "ax = sc.pl.dotplot(\n",
    "    adata_sub,\n",
    "    deg_adnt,\n",
    "    groupby='cell_type',\n",
    "    use_raw=True,\n",
    "    standard_scale='var',\n",
    "    show=False)\n",
    "ax['mainplot_ax'].set_xticklabels(symbols)\n",
    "plt.show()"
   ]
  },
  {
   "cell_type": "code",
   "execution_count": null,
   "metadata": {},
   "outputs": [],
   "source": [
    "de_cd4 = vae.differential_expression(\n",
    "    adata,\n",
    "    groupby='cell_type',\n",
    "    group1='CD4',\n",
    "    group2='nDNT',\n",
    "    batch_correction = True,\n",
    "    batchid1 = ['b1','b2'])\n",
    "de_cd4 = de_cd4[(de_cd4['lfc_mean'] < 0) & (de_cd4['bayes_factor'] > 0)]\n",
    "\n",
    "de_cd8 = vae.differential_expression(\n",
    "    adata,\n",
    "    groupby='cell_type',\n",
    "    group1='CD8',\n",
    "    group2='nDNT',\n",
    "    batch_correction = True,\n",
    "    batchid1 = ['b1','b2'])\n",
    "de_cd8 = de_cd8[(de_cd8['lfc_mean'] < 0) & (de_cd8['bayes_factor'] > 0)]\n",
    "\n",
    "de_nk = vae.differential_expression(\n",
    "    adata,\n",
    "    groupby='cell_type',\n",
    "    group1='NK',\n",
    "    group2='nDNT',\n",
    "    batch_correction = True,\n",
    "    batchid1 = ['b1','b2'])\n",
    "de_nk = de_nk[(de_nk['lfc_mean'] < 0) & (de_nk['bayes_factor'] > 0)]"
   ]
  },
  {
   "cell_type": "code",
   "execution_count": 34,
   "metadata": {},
   "outputs": [],
   "source": [
    "deg_ndnt = {}\n",
    "deg_ndnt['CD4'] = de_cd4[:10].index.tolist()\n",
    "deg_ndnt['CD8'] = de_cd8[:10].index.tolist()\n",
    "deg_ndnt['NK'] = de_nk[:10].index.tolist()"
   ]
  },
  {
   "cell_type": "code",
   "execution_count": 35,
   "metadata": {},
   "outputs": [],
   "source": [
    "adata_sub = adata[\n",
    "    (adata.obs['cell_type'] == \"nDNT\") |\n",
    "    (adata.obs['cell_type'] == 'CD4') | \n",
    "    (adata.obs['cell_type'] == 'CD8') |\n",
    "    (adata.obs['cell_type'] == 'NK')\n",
    "    ]"
   ]
  },
  {
   "cell_type": "code",
   "execution_count": 36,
   "metadata": {},
   "outputs": [],
   "source": [
    "symbols = []\n",
    "for name in deg_adnt:\n",
    "    symbols.extend(list(map(to_curly,deg_ndnt[name])))"
   ]
  },
  {
   "cell_type": "code",
   "execution_count": null,
   "metadata": {},
   "outputs": [],
   "source": [
    "ax = sc.pl.dotplot(\n",
    "    adata_sub,\n",
    "    deg_ndnt,\n",
    "    groupby='cell_type',\n",
    "    use_raw=True,\n",
    "    standard_scale='var',\n",
    "    show=False)\n",
    "ax['mainplot_ax'].set_xticklabels(symbols)\n",
    "plt.show()\n"
   ]
  }
 ],
 "metadata": {
  "kernelspec": {
   "display_name": "scvi-env",
   "language": "python",
   "name": "python3"
  },
  "language_info": {
   "codemirror_mode": {
    "name": "ipython",
    "version": 3
   },
   "file_extension": ".py",
   "mimetype": "text/x-python",
   "name": "python",
   "nbconvert_exporter": "python",
   "pygments_lexer": "ipython3",
   "version": "3.9.17"
  },
  "orig_nbformat": 4
 },
 "nbformat": 4,
 "nbformat_minor": 2
}
