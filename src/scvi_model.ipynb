{
 "cells": [
  {
   "cell_type": "code",
   "execution_count": null,
   "metadata": {},
   "outputs": [],
   "source": [
    "import scanpy as sc\n",
    "import scvi\n",
    "from pathlib import Path\n",
    "import matplotlib.pyplot as plt\n",
    "from matplotlib import cm"
   ]
  },
  {
   "cell_type": "code",
   "execution_count": 2,
   "metadata": {},
   "outputs": [],
   "source": [
    "DATA = Path(\"../data\")\n",
    "MODEL = Path(\"../model\")"
   ]
  },
  {
   "cell_type": "code",
   "execution_count": null,
   "metadata": {},
   "outputs": [],
   "source": [
    "adata = sc.read_h5ad(DATA / \"doublet.h5ad\")"
   ]
  },
  {
   "cell_type": "code",
   "execution_count": null,
   "metadata": {},
   "outputs": [],
   "source": [
    "adata = adata.copy()\n",
    "scvi.model.SCVI.setup_anndata(\n",
    "    adata,\n",
    "    layer='counts',\n",
    "    batch_key='batch',\n",
    "    continuous_covariate_keys=['pct_counts_mt'])\n",
    "vae = scvi.model.SCVI(adata)\n",
    "vae.train()"
   ]
  },
  {
   "cell_type": "code",
   "execution_count": 16,
   "metadata": {},
   "outputs": [],
   "source": [
    "scvi.model.SCVI.save(\n",
    "    vae,\n",
    "    'trained2.model',\n",
    "    overwrite=True,\n",
    "    save_anndata=True)"
   ]
  },
  {
   "cell_type": "code",
   "execution_count": null,
   "metadata": {},
   "outputs": [],
   "source": [
    "vae = scvi.model.SCVI.load('trained2.model')\n",
    "adata = vae.adata"
   ]
  },
  {
   "cell_type": "code",
   "execution_count": 4,
   "metadata": {},
   "outputs": [],
   "source": [
    "adata.obsm['X_scVI'] = vae.get_latent_representation()\n",
    "adata.obsm['X_normalized'] = vae.get_normalized_expression()"
   ]
  },
  {
   "cell_type": "code",
   "execution_count": null,
   "metadata": {},
   "outputs": [],
   "source": [
    "sc.pp.neighbors(adata, use_rep=\"X_scVI\")\n",
    "sc.tl.leiden(adata,resolution=0.5)\n",
    "sc.tl.umap(adata, min_dist=0.3)"
   ]
  },
  {
   "cell_type": "code",
   "execution_count": null,
   "metadata": {},
   "outputs": [],
   "source": [
    "sc.pl.umap(adata,color=[\"cell_type\",'batch'],frameon=False, ncols=1)\n",
    "plt.show()"
   ]
  },
  {
   "cell_type": "code",
   "execution_count": null,
   "metadata": {},
   "outputs": [],
   "source": [
    "de = vae.differential_expression(adata,groupby='cell_type')"
   ]
  },
  {
   "cell_type": "code",
   "execution_count": 13,
   "metadata": {},
   "outputs": [],
   "source": [
    "def to_curly(gene: str) -> str:\n",
    "    curly_gene = (\"$\" + gene + \"$\")\n",
    "    return curly_gene"
   ]
  },
  {
   "cell_type": "code",
   "execution_count": 14,
   "metadata": {},
   "outputs": [],
   "source": [
    "de_gene = de[\n",
    "    (de['proba_de'] > 0.8) &\n",
    "    (de['lfc_mean'] > 1) &\n",
    "    (de['non_zeros_proportion1'] > 0.2)\n",
    "]\n",
    "de_gene = de_gene.sort_values('proba_de', ascending = False)\n",
    "de_groups = de_gene.groupby('comparison')\n",
    "\n",
    "markers = {\n",
    "    name.split(' ')[0]: de_groups.get_group(name).index.tolist()[:5] for name in de_groups.groups.keys()\n",
    "    }\n",
    "\n",
    "symbols = []\n",
    "for name in markers:\n",
    "    symbols.extend(list(map(to_curly,markers[name])))"
   ]
  },
  {
   "cell_type": "code",
   "execution_count": null,
   "metadata": {},
   "outputs": [],
   "source": [
    "ax = sc.pl.dotplot(\n",
    "    adata,\n",
    "    markers,\n",
    "    groupby='cell_type',\n",
    "    use_raw=True,\n",
    "    standard_scale='var',\n",
    "    cmap=cm.viridis_r,\n",
    "    show=False\n",
    "    )\n",
    "\n",
    "ax['mainplot_ax'].set_xticklabels(symbols)\n",
    "plt.show()"
   ]
  }
 ],
 "metadata": {
  "kernelspec": {
   "display_name": "scvi-env",
   "language": "python",
   "name": "python3"
  },
  "language_info": {
   "codemirror_mode": {
    "name": "ipython",
    "version": 3
   },
   "file_extension": ".py",
   "mimetype": "text/x-python",
   "name": "python",
   "nbconvert_exporter": "python",
   "pygments_lexer": "ipython3",
   "version": "3.9.17"
  },
  "orig_nbformat": 4
 },
 "nbformat": 4,
 "nbformat_minor": 2
}
